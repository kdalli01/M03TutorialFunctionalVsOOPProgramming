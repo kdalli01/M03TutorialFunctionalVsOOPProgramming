{
 "cells": [
  {
   "cell_type": "code",
   "execution_count": 9,
   "id": "d2107337-6baf-4277-96e0-da87192188df",
   "metadata": {},
   "outputs": [],
   "source": [
    "class Solution:\n",
    "    def sort012(self, arr, n):\n",
    "        # Initialize pointers for 0s (low), 1s (mid), and 2s (high)\n",
    "        low = 0  \n",
    "        mid = 0  \n",
    "        high = n - 1  \n",
    "        \n",
    "        # Traverse the array until mid pointer reaches or crosses the high pointer\n",
    "        while mid <= high:\n",
    "            # If current element is 0, swap it with the element at low pointer\n",
    "            # Move both low and mid pointers to the right\n",
    "            if arr[mid] == 0:\n",
    "                arr[low], arr[mid] = arr[mid], arr[low]\n",
    "                low += 1\n",
    "                mid += 1\n",
    "            # If current element is 1, move mid pointer to the right\n",
    "            elif arr[mid] == 1:\n",
    "                mid += 1\n",
    "            # If current element is 2, swap it with the element at high pointer\n",
    "            # Move high pointer to the left\n",
    "            else:\n",
    "                arr[mid], arr[high] = arr[high], arr[mid]\n",
    "                high -= 1\n"
   ]
  },
  {
   "cell_type": "code",
   "execution_count": 10,
   "id": "0e177e18-85c1-4c62-b3ce-59ee412d5d29",
   "metadata": {},
   "outputs": [
    {
     "ename": "NameError",
     "evalue": "name 'solution_instance' is not defined",
     "output_type": "error",
     "traceback": [
      "\u001b[1;31m---------------------------------------------------------------------------\u001b[0m",
      "\u001b[1;31mNameError\u001b[0m                                 Traceback (most recent call last)",
      "Cell \u001b[1;32mIn[10], line 4\u001b[0m\n\u001b[0;32m      2\u001b[0m arr1 \u001b[38;5;241m=\u001b[39m [\u001b[38;5;241m0\u001b[39m, \u001b[38;5;241m2\u001b[39m, \u001b[38;5;241m1\u001b[39m, \u001b[38;5;241m2\u001b[39m, \u001b[38;5;241m0\u001b[39m]\n\u001b[0;32m      3\u001b[0m n1 \u001b[38;5;241m=\u001b[39m \u001b[38;5;28mlen\u001b[39m(arr1)\n\u001b[1;32m----> 4\u001b[0m solution_instance\u001b[38;5;241m.\u001b[39msort012(arr1, n1)\n\u001b[0;32m      5\u001b[0m \u001b[38;5;28mprint\u001b[39m(\u001b[38;5;124m\"\u001b[39m\u001b[38;5;124mSorted array:\u001b[39m\u001b[38;5;124m\"\u001b[39m, arr1)\n",
      "\u001b[1;31mNameError\u001b[0m: name 'solution_instance' is not defined"
     ]
    }
   ],
   "source": [
    "#check code\n",
    "arr1 = [0, 2, 1, 2, 0]\n",
    "n1 = len(arr1)\n",
    "solution_instance.sort012(arr1, n1)\n",
    "print(\"Sorted array:\", arr1)"
   ]
  },
  {
   "cell_type": "code",
   "execution_count": null,
   "id": "7790fbeb-9df1-4fb8-9b44-cfd9ea7f3efc",
   "metadata": {},
   "outputs": [],
   "source": []
  }
 ],
 "metadata": {
  "kernelspec": {
   "display_name": "Python 3 (ipykernel)",
   "language": "python",
   "name": "python3"
  },
  "language_info": {
   "codemirror_mode": {
    "name": "ipython",
    "version": 3
   },
   "file_extension": ".py",
   "mimetype": "text/x-python",
   "name": "python",
   "nbconvert_exporter": "python",
   "pygments_lexer": "ipython3",
   "version": "3.11.7"
  }
 },
 "nbformat": 4,
 "nbformat_minor": 5
}
